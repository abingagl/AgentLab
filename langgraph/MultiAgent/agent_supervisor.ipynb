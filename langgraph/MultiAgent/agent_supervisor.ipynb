{
 "cells": [
  {
   "cell_type": "markdown",
   "metadata": {},
   "source": [
    "Agent Supervisor\n"
   ]
  },
  {
   "cell_type": "code",
   "execution_count": 1,
   "metadata": {},
   "outputs": [],
   "source": [
    "%%capture --no-stderr\n",
    "%pip install -U langgraph langchain langchain_openai langchain_experimental langsmith pandas"
   ]
  },
  {
   "cell_type": "code",
   "execution_count": 2,
   "metadata": {},
   "outputs": [],
   "source": [
    "import getpass\n",
    "import os\n",
    "\n",
    "\n",
    "def _set_if_undefined(var: str):\n",
    "    if not os.environ.get(var):\n",
    "        os.environ[var] = getpass.getpass(f\"Please provide your {var}\")\n",
    "\n",
    "\n",
    "_set_if_undefined(\"OPENAI_API_KEY\")\n",
    "_set_if_undefined(\"TAVILY_API_KEY\")"
   ]
  },
  {
   "cell_type": "code",
   "execution_count": 3,
   "metadata": {},
   "outputs": [],
   "source": [
    "from typing import Annotated\n",
    "\n",
    "from langchain_community.tools.tavily_search import TavilySearchResults\n",
    "from langchain_experimental.tools import PythonREPLTool\n",
    "\n",
    "tavily_tool = TavilySearchResults(max_results=5)\n",
    "\n",
    "# This executes code locally, which can be unsafe\n",
    "python_repl_tool = PythonREPLTool()"
   ]
  },
  {
   "cell_type": "code",
   "execution_count": 4,
   "metadata": {},
   "outputs": [],
   "source": [
    "from langchain_core.messages import HumanMessage\n",
    "\n",
    "def agent_node(state, agent, name):\n",
    "    result = agent.invoke(state)\n",
    "    return {\"messages\": [HumanMessage(content=result[\"messages\"][-1].content, name=name)]}"
   ]
  },
  {
   "cell_type": "code",
   "execution_count": 5,
   "metadata": {},
   "outputs": [],
   "source": [
    "from langchain_core.prompts import ChatPromptTemplate, MessagesPlaceholder\n",
    "from langchain_openai import ChatOpenAI\n",
    "from pydantic import BaseModel\n",
    "from typing import Literal\n",
    "\n",
    "members = [\"Researcher\", \"Coder\"]\n",
    "system_prompt = (\n",
    "    \"You are a supervisor tasked with managing a conversation between the\"\n",
    "    \" following workers:  {members}. Given the following user request,\"\n",
    "    \" respond with the worker to act next. Each worker will perform a\"\n",
    "    \" task and respond with their results and status. When finished,\"\n",
    "    \" respond with FINISH.\"\n",
    ")\n",
    "# Our team supervisor is an LLM node. It just picks the next agent to process\n",
    "# and decides when the work is completed\n",
    "options = [\"FINISH\"] + members\n",
    "\n",
    "class routeResponse(BaseModel):\n",
    "    next: Literal[*options]\n",
    "\n",
    "prompt = ChatPromptTemplate.from_messages(\n",
    "    [\n",
    "        (\"system\", system_prompt),\n",
    "        MessagesPlaceholder(variable_name=\"messages\"),\n",
    "        (\n",
    "            \"system\",\n",
    "            \"Given the conversation above, who should act next?\"\n",
    "            \" Or should we FINISH? Select one of: {options}\",\n",
    "        ),\n",
    "    ]\n",
    ").partial(options=str(options), members=\", \".join(members))\n",
    "\n",
    "\n",
    "llm = ChatOpenAI(model=\"gpt-4o\")\n",
    "\n",
    "def supervisor_agent(state):\n",
    "    supervisor_chain = (\n",
    "        prompt\n",
    "        | llm.with_structured_output(routeResponse)\n",
    "    )\n",
    "    return supervisor_chain.invoke(state)"
   ]
  },
  {
   "cell_type": "code",
   "execution_count": 6,
   "metadata": {},
   "outputs": [],
   "source": [
    "import functools\n",
    "import operator\n",
    "from typing import Sequence, TypedDict\n",
    "\n",
    "from langchain_core.messages import BaseMessage\n",
    "\n",
    "from langgraph.graph import END, StateGraph, START\n",
    "from langgraph.prebuilt import create_react_agent\n",
    "\n",
    "# The agent state is the input to each node in the graph\n",
    "class AgentState(TypedDict):\n",
    "    # The annotation tells the graph that new messages will always\n",
    "    # be added to the current states\n",
    "    messages: Annotated[Sequence[BaseMessage], operator.add]\n",
    "    # The 'next' field indicates where to route to next\n",
    "    next: str\n",
    "\n",
    "\n",
    "research_agent = create_react_agent(llm, tools=[tavily_tool])\n",
    "research_node = functools.partial(agent_node, agent=research_agent, name=\"Researcher\")\n",
    "\n",
    "# NOTE: THIS PERFORMS ARBITRARY CODE EXECUTION. PROCEED WITH CAUTION\n",
    "code_agent = create_react_agent(llm, tools=[python_repl_tool])\n",
    "code_node = functools.partial(agent_node, agent=code_agent, name=\"Coder\")\n",
    "\n",
    "workflow = StateGraph(AgentState)\n",
    "workflow.add_node(\"Researcher\", research_node)\n",
    "workflow.add_node(\"Coder\", code_node)\n",
    "workflow.add_node(\"supervisor\", supervisor_agent)"
   ]
  },
  {
   "cell_type": "code",
   "execution_count": 7,
   "metadata": {},
   "outputs": [],
   "source": [
    "for member in members:\n",
    "    # We want our workers to ALWAYS \"report back\" to the supervisor when done\n",
    "    workflow.add_edge(member, \"supervisor\")\n",
    "# The supervisor populates the \"next\" field in the graph state\n",
    "# which routes to a node or finishes\n",
    "conditional_map = {k: k for k in members}\n",
    "conditional_map[\"FINISH\"] = END\n",
    "workflow.add_conditional_edges(\"supervisor\", lambda x: x[\"next\"], conditional_map)\n",
    "# Finally, add entrypoint\n",
    "workflow.add_edge(START, \"supervisor\")\n",
    "\n",
    "graph = workflow.compile()"
   ]
  },
  {
   "cell_type": "code",
   "execution_count": 8,
   "metadata": {},
   "outputs": [
    {
     "data": {
      "image/jpeg": "[encoded data removed]",
      "text/plain": [
       "<IPython.core.display.Image object>"
      ]
     },
     "metadata": {},
     "output_type": "display_data"
    }
   ],
   "source": [
    "# 可视化图\n",
    "from IPython.display import Image, display\n",
    "\n",
    "try:\n",
    "    display(Image(graph.get_graph(xray=True).draw_mermaid_png()))\n",
    "except Exception as e:\n",
    "    print(f\"Error generating graph: {e}\")\n"
   ]
  },
  {
   "cell_type": "code",
   "execution_count": 9,
   "metadata": {},
   "outputs": [
    {
     "name": "stdout",
     "output_type": "stream",
     "text": [
      "{'supervisor': {'next': 'Coder'}}\n",
      "----\n"
     ]
    },
    {
     "name": "stderr",
     "output_type": "stream",
     "text": [
      "Python REPL can execute arbitrary code. Use with caution.\n"
     ]
    },
    {
     "name": "stdout",
     "output_type": "stream",
     "text": [
      "{'Coder': {'messages': [HumanMessage(content='The code to print \"Hello, World!\" has been executed and it produced the following output:\\n\\n```\\nHello, World!\\n```', name='Coder')]}}\n",
      "----\n",
      "{'supervisor': {'next': 'FINISH'}}\n",
      "----\n"
     ]
    }
   ],
   "source": [
    "for s in graph.stream(\n",
    "    {\n",
    "        \"messages\": [\n",
    "            HumanMessage(content=\"Code hello world and print it to the terminal\")\n",
    "        ]\n",
    "    }\n",
    "):\n",
    "    if \"__end__\" not in s:\n",
    "        print(s)\n",
    "        print(\"----\")"
   ]
  },
  {
   "cell_type": "code",
   "execution_count": 10,
   "metadata": {},
   "outputs": [
    {
     "name": "stdout",
     "output_type": "stream",
     "text": [
      "{'supervisor': {'next': 'Researcher'}}\n",
      "----\n",
      "{'Researcher': {'messages': [HumanMessage(content='### Research Report on Pikas\\n\\n#### Introduction\\nPikas are small, herbivorous mammals belonging to the family Ochotonidae. They are closely related to rabbits and hares and are found in mountainous regions across North America and Asia. Known for their distinctive calls and industrious behavior, pikas play a significant role in their ecosystems.\\n\\n#### Habitat and Behavior\\nPikas primarily inhabit cold, alpine environments, often residing in rocky terrains and talus slopes. They are well-adapted to these harsh conditions and do not hibernate during the winter. Instead, they collect and store vegetation in \"haypiles\" to sustain themselves through the colder months. This behavior, known as \"haying,\" involves gathering grasses, sedges, and other plant materials to create caches of food. Pikas are diurnal and prefer cooler temperatures, typically foraging in shaded areas to avoid direct sunlight and high temperatures.\\n\\n#### Physical Characteristics\\nPikas have a small, round body with soft, thick fur that is usually brownish or reddish in color. They measure approximately 6 inches (15 cm) in length and weigh between 4.5 and 7.1 ounces (125 to 200 grams). Unlike rabbits and hares, pikas have less developed hind legs and do not bound but rather scamper across their rocky habitats. They have short, rounded ears and lack a visible tail.\\n\\n#### Diet\\nAs herbivores, pikas mainly consume grasses, sedges, and various plant materials. Their high metabolism requires them to eat large quantities of food. During the summer months, they forage and store vegetation in haypiles, which serve as their primary food source during the winter when fresh vegetation is scarce.\\n\\n#### Conservation Status\\nPikas are considered to be a good indicator species for detecting the impacts of climate change due to their sensitivity to temperature fluctuations. Rising temperatures have led to habitat loss and reduced foraging time, posing significant threats to pika populations. Some populations, particularly in the Great Basin of North America, have experienced declines and local extirpations. The American pika (Ochotona princeps) has been highlighted as particularly vulnerable to global warming, although it is not currently listed under the US Endangered Species Act.\\n\\n#### Conclusion\\nPikas are fascinating creatures that have adapted to some of the harshest environments on Earth. Their unique behaviors and ecological roles make them an important species for studying the impacts of climate change. Conservation efforts are essential to ensure the survival of pikas, particularly in the face of rapidly changing environmental conditions.', name='Researcher')]}}\n",
      "----\n",
      "{'supervisor': {'next': 'Coder'}}\n",
      "----\n",
      "{'Coder': {'messages': [HumanMessage(content='### Research Report on Pikas\\n\\n#### Introduction\\nPikas are small, herbivorous mammals belonging to the family Ochotonidae. They are closely related to rabbits and hares and are found in mountainous regions across North America and Asia. Known for their distinctive calls and industrious behavior, pikas play a significant role in their ecosystems.\\n\\n#### Habitat and Behavior\\nPikas primarily inhabit cold, alpine environments, often residing in rocky terrains and talus slopes. They are well-adapted to these harsh conditions and do not hibernate during the winter. Instead, they collect and store vegetation in \"haypiles\" to sustain themselves through the colder months. This behavior, known as \"haying,\" involves gathering grasses, sedges, and other plant materials to create caches of food. Pikas are diurnal and prefer cooler temperatures, typically foraging in shaded areas to avoid direct sunlight and high temperatures.\\n\\n#### Physical Characteristics\\nPikas have a small, round body with soft, thick fur that is usually brownish or reddish in color. They measure approximately 6 inches (15 cm) in length and weigh between 4.5 and 7.1 ounces (125 to 200 grams). Unlike rabbits and hares, pikas have less developed hind legs and do not bound but rather scamper across their rocky habitats. They have short, rounded ears and lack a visible tail.\\n\\n#### Diet\\nAs herbivores, pikas mainly consume grasses, sedges, and various plant materials. Their high metabolism requires them to eat large quantities of food. During the summer months, they forage and store vegetation in haypiles, which serve as their primary food source during the winter when fresh vegetation is scarce.\\n\\n#### Conservation Status\\nPikas are considered to be a good indicator species for detecting the impacts of climate change due to their sensitivity to temperature fluctuations. Rising temperatures have led to habitat loss and reduced foraging time, posing significant threats to pika populations. Some populations, particularly in the Great Basin of North America, have experienced declines and local extirpations. The American pika (Ochotona princeps) has been highlighted as particularly vulnerable to global warming, although it is not currently listed under the US Endangered Species Act.\\n\\n#### Conclusion\\nPikas are fascinating creatures that have adapted to some of the harshest environments on Earth. Their unique behaviors and ecological roles make them an important species for studying the impacts of climate change. Conservation efforts are essential to ensure the survival of pikas, particularly in the face of rapidly changing environmental conditions.', name='Coder')]}}\n",
      "----\n",
      "{'supervisor': {'next': 'FINISH'}}\n",
      "----\n"
     ]
    }
   ],
   "source": [
    "for s in graph.stream(\n",
    "    {\"messages\": [HumanMessage(content=\"Write a brief research report on pikas.\")]},\n",
    "    {\"recursion_limit\": 100},\n",
    "):\n",
    "    if \"__end__\" not in s:\n",
    "        print(s)\n",
    "        print(\"----\")"
   ]
  }
 ],
 "metadata": {
  "kernelspec": {
   "display_name": "chains",
   "language": "python",
   "name": "python3"
  },
  "language_info": {
   "codemirror_mode": {
    "name": "ipython",
    "version": 3
   },
   "file_extension": ".py",
   "mimetype": "text/x-python",
   "name": "python",
   "nbconvert_exporter": "python",
   "pygments_lexer": "ipython3",
   "version": "3.12.5"
  }
 },
 "nbformat": 4,
 "nbformat_minor": 2
}
